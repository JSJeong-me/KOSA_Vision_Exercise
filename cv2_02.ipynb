{
 "cells": [
  {
   "cell_type": "code",
   "execution_count": 61,
   "id": "64b38995-563d-4bab-b1eb-d8af5f873080",
   "metadata": {},
   "outputs": [],
   "source": [
    "import cv2\n",
    "import time"
   ]
  },
  {
   "cell_type": "code",
   "execution_count": 62,
   "id": "73234c4b-3e4f-4f96-b59b-b31aae3d9d97",
   "metadata": {},
   "outputs": [],
   "source": [
    "cap = cv2.VideoCapture('.\\\\park_cycle.mp4')"
   ]
  },
  {
   "cell_type": "code",
   "execution_count": 63,
   "id": "2089da5c-a0d1-4d0e-899e-c5d1c3ffbec7",
   "metadata": {},
   "outputs": [],
   "source": [
    "prev_time = 0\n",
    "FPS = 1"
   ]
  },
  {
   "cell_type": "code",
   "execution_count": 64,
   "id": "33f32f08-b963-4696-97e4-a31c678cd7fd",
   "metadata": {},
   "outputs": [],
   "source": [
    "while True:\n",
    "    ret, frame = cap.read()\n",
    "\n",
    "    if not ret:\n",
    "        break\n",
    "        \n",
    "    frame = cv2.resize(frame, (0, 0), fx=0.5, fy=0.5)\n",
    "    \n",
    "    current_time = time.time() - prev_time\n",
    "\n",
    "    if (ret is True) and (current_time > 1./ FPS):\n",
    "        prev_time = time.time()\n",
    "     \n",
    "        cv2.imshow('frame', frame)\n",
    "\n",
    "    if cv2.waitKey(10) == 27:\n",
    "        break\n",
    "\n",
    "cap.release()\n",
    "cv2.destroyAllWindows()"
   ]
  }
 ],
 "metadata": {
  "kernelspec": {
   "display_name": "Python KOSA",
   "language": "python",
   "name": "kosa"
  },
  "language_info": {
   "codemirror_mode": {
    "name": "ipython",
    "version": 3
   },
   "file_extension": ".py",
   "mimetype": "text/x-python",
   "name": "python",
   "nbconvert_exporter": "python",
   "pygments_lexer": "ipython3",
   "version": "3.8.12"
  }
 },
 "nbformat": 4,
 "nbformat_minor": 5
}
