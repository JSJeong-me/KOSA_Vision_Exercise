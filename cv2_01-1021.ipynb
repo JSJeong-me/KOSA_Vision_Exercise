{
 "cells": [
  {
   "cell_type": "code",
   "execution_count": 1,
   "id": "17848014-eedd-4af2-b42b-f44069db4f22",
   "metadata": {},
   "outputs": [
    {
     "name": "stdout",
     "output_type": "stream",
     "text": [
      "3.8.12 (default, Oct 12 2021, 03:01:40) [MSC v.1916 64 bit (AMD64)]\n"
     ]
    }
   ],
   "source": [
    "import sys\n",
    "print(sys.version)"
   ]
  },
  {
   "cell_type": "code",
   "execution_count": 2,
   "id": "045bb924-5710-45b8-bf5a-6044e1bdbf99",
   "metadata": {},
   "outputs": [],
   "source": [
    "import cv2"
   ]
  },
  {
   "cell_type": "code",
   "execution_count": 3,
   "id": "07dfd0a3-8a6d-4ed4-a5d0-f15c3a2198d7",
   "metadata": {},
   "outputs": [
    {
     "data": {
      "text/plain": [
       "'4.3.0'"
      ]
     },
     "execution_count": 3,
     "metadata": {},
     "output_type": "execute_result"
    }
   ],
   "source": [
    "cv2.__version__"
   ]
  },
  {
   "cell_type": "code",
   "execution_count": 4,
   "id": "8a82772e-d479-4f9b-8964-7daf03c4cb69",
   "metadata": {},
   "outputs": [],
   "source": [
    "src = cv2.imread('.\\\\banana3.png')"
   ]
  },
  {
   "cell_type": "code",
   "execution_count": 5,
   "id": "bb607659-d16a-48de-99f6-aa8631addcf1",
   "metadata": {},
   "outputs": [],
   "source": [
    "b,g,r = cv2.split(src)"
   ]
  },
  {
   "cell_type": "code",
   "execution_count": 6,
   "id": "7ad9050b-e392-4c30-89c8-05db10f35f58",
   "metadata": {},
   "outputs": [],
   "source": [
    "reverse_img = cv2.merge((r,g,b))"
   ]
  },
  {
   "cell_type": "code",
   "execution_count": 7,
   "id": "cbd1c40a-20d5-4f50-b715-af01fb481766",
   "metadata": {},
   "outputs": [],
   "source": [
    "dst = cv2.resize(reverse_img, dsize=(640, 480), interpolation = cv2.INTER_NEAREST)"
   ]
  },
  {
   "cell_type": "code",
   "execution_count": 8,
   "id": "0992325a-ef84-4c90-bde2-8a135aee2b72",
   "metadata": {},
   "outputs": [],
   "source": [
    "dst2 = cv2.resize(src, dsize=(0,0), fx=1, fy=1, interpolation = cv2.INTER_NEAREST)"
   ]
  },
  {
   "cell_type": "code",
   "execution_count": 9,
   "id": "4372bb92-34a4-4b43-9043-850375ea86ee",
   "metadata": {
    "jupyter": {
     "source_hidden": true
    },
    "tags": []
   },
   "outputs": [],
   "source": [
    "#dst3 = cv2.resize(src, dsize=(0,0), fx=0.3, fy=0.3, interpolation = cv2.INTER_AREA)"
   ]
  },
  {
   "cell_type": "code",
   "execution_count": 10,
   "id": "da3a7d97-330a-4a6a-a0f3-f8138b9b6fa7",
   "metadata": {},
   "outputs": [],
   "source": [
    "#dst = cv2.resize(src, dsize[, dst[, fx[, fy[, interpolation]]]]\t)"
   ]
  },
  {
   "cell_type": "code",
   "execution_count": 11,
   "id": "88f11da0-01e5-4196-b4f0-e7790346d61a",
   "metadata": {},
   "outputs": [
    {
     "data": {
      "text/plain": [
       "(194, 259, 3)"
      ]
     },
     "execution_count": 11,
     "metadata": {},
     "output_type": "execute_result"
    }
   ],
   "source": [
    "src.shape"
   ]
  },
  {
   "cell_type": "code",
   "execution_count": 12,
   "id": "e1fd0472-09e5-4bdc-b768-a5055089314d",
   "metadata": {},
   "outputs": [],
   "source": [
    "#upside_down = cv2.flip(src, -1)"
   ]
  },
  {
   "cell_type": "code",
   "execution_count": 13,
   "id": "5c4becb2-882c-4fbc-b875-d371ba7bc26f",
   "metadata": {},
   "outputs": [],
   "source": [
    "cv2.imshow('Image', dst)\n",
    "cv2.imshow('Image - nearest', dst2)\n",
    "#cv2.imshow('Image - area', dst3)\n",
    "#cv2.imwrite('.\\\\lotte-image.jpg',dst3)\n",
    "cv2.waitKey(0) # 0 forever \n",
    "cv2.destroyAllWindows()"
   ]
  },
  {
   "cell_type": "code",
   "execution_count": 14,
   "id": "aebbbc5c-8c1b-4983-97e6-e4cf5e535db2",
   "metadata": {},
   "outputs": [
    {
     "name": "stdout",
     "output_type": "stream",
     "text": [
      "C:\\Users\\COM\\Desktop\n"
     ]
    }
   ],
   "source": [
    "!cd"
   ]
  }
 ],
 "metadata": {
  "kernelspec": {
   "display_name": "Python KOSA",
   "language": "python",
   "name": "kosa"
  },
  "language_info": {
   "codemirror_mode": {
    "name": "ipython",
    "version": 3
   },
   "file_extension": ".py",
   "mimetype": "text/x-python",
   "name": "python",
   "nbconvert_exporter": "python",
   "pygments_lexer": "ipython3",
   "version": "3.8.12"
  }
 },
 "nbformat": 4,
 "nbformat_minor": 5
}
