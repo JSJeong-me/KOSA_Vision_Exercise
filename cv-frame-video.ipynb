{
  "nbformat": 4,
  "nbformat_minor": 0,
  "metadata": {
    "colab": {
      "name": "Untitled6.ipynb",
      "provenance": [],
      "authorship_tag": "ABX9TyMsjSBuc279H3CvR7oznXwj",
      "include_colab_link": true
    },
    "kernelspec": {
      "name": "python3",
      "display_name": "Python 3"
    },
    "language_info": {
      "name": "python"
    }
  },
  "cells": [
    {
      "cell_type": "markdown",
      "metadata": {
        "id": "view-in-github",
        "colab_type": "text"
      },
      "source": [
        "<a href=\"https://colab.research.google.com/github/JSJeong-me/KOSA_Vision_Exercise/blob/main/cv-frame-video.ipynb\" target=\"_parent\"><img src=\"https://colab.research.google.com/assets/colab-badge.svg\" alt=\"Open In Colab\"/></a>"
      ]
    },
    {
      "cell_type": "markdown",
      "metadata": {
        "id": "7Z7zW8TafrYN"
      },
      "source": [
        "# Steps:\n",
        "# Fetch all the image file names using glob\n",
        "# Read all the images using cv2.imread()\n",
        "# Store all the images into a list\n",
        "# Create a VideoWriter object using cv2.VideoWriter()\n",
        "# Save the images to video file using cv2.VideoWriter().write()\n",
        "# Release the VideoWriter and destroy all windows."
      ]
    },
    {
      "cell_type": "code",
      "metadata": {
        "id": "XLgpv1mXfObS"
      },
      "source": [
        "import cv2\n",
        "import numpy as np\n",
        "import glob\n",
        "\n",
        "img_array = []\n",
        "for filename in glob.glob('./images/*.jpg'):\n",
        "    img = cv2.imread(filename)\n",
        "    height, width, layers = img.shape\n",
        "    size = (width,height)\n",
        "    img_array.append(img)\n",
        "\n",
        "\n",
        "out = cv2.VideoWriter('project.avi',cv2.VideoWriter_fourcc(*'DIVX'), 15, size)\n",
        " \n",
        "for i in range(len(img_array)):\n",
        "    out.write(img_array[i])\n",
        "out.release()"
      ],
      "execution_count": null,
      "outputs": []
    }
  ]
}