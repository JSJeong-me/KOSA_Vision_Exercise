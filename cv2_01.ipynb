{
 "cells": [
  {
   "cell_type": "code",
   "execution_count": 11,
   "id": "17848014-eedd-4af2-b42b-f44069db4f22",
   "metadata": {},
   "outputs": [
    {
     "name": "stdout",
     "output_type": "stream",
     "text": [
      "3.8.12 (default, Oct 12 2021, 03:01:40) [MSC v.1916 64 bit (AMD64)]\n"
     ]
    }
   ],
   "source": [
    "import sys\n",
    "print(sys.version)"
   ]
  },
  {
   "cell_type": "code",
   "execution_count": 12,
   "id": "045bb924-5710-45b8-bf5a-6044e1bdbf99",
   "metadata": {},
   "outputs": [],
   "source": [
    "import cv2"
   ]
  },
  {
   "cell_type": "code",
   "execution_count": 13,
   "id": "07dfd0a3-8a6d-4ed4-a5d0-f15c3a2198d7",
   "metadata": {},
   "outputs": [
    {
     "data": {
      "text/plain": [
       "'4.3.0'"
      ]
     },
     "execution_count": 13,
     "metadata": {},
     "output_type": "execute_result"
    }
   ],
   "source": [
    "cv2.__version__"
   ]
  },
  {
   "cell_type": "code",
   "execution_count": 14,
   "id": "8177d97d-f39a-429a-90e1-7f3d8782d50f",
   "metadata": {},
   "outputs": [],
   "source": [
    "src = cv2.imread('.\\\\elephant2.png')"
   ]
  },
  {
   "cell_type": "code",
   "execution_count": 15,
   "id": "ee5c722b-1a38-4388-a938-63c72bd7a981",
   "metadata": {},
   "outputs": [
    {
     "data": {
      "text/plain": [
       "numpy.ndarray"
      ]
     },
     "execution_count": 15,
     "metadata": {},
     "output_type": "execute_result"
    }
   ],
   "source": [
    "type(src)"
   ]
  },
  {
   "cell_type": "code",
   "execution_count": 16,
   "id": "88f11da0-01e5-4196-b4f0-e7790346d61a",
   "metadata": {},
   "outputs": [
    {
     "data": {
      "text/plain": [
       "(532, 946, 3)"
      ]
     },
     "execution_count": 16,
     "metadata": {},
     "output_type": "execute_result"
    }
   ],
   "source": [
    "src.shape"
   ]
  },
  {
   "cell_type": "code",
   "execution_count": 17,
   "id": "9d5f2f64-c9b0-40a9-bb92-c069b01a6814",
   "metadata": {},
   "outputs": [],
   "source": [
    "crop1 = src[100:500, 250:800]"
   ]
  },
  {
   "cell_type": "code",
   "execution_count": 18,
   "id": "e1fd0472-09e5-4bdc-b768-a5055089314d",
   "metadata": {},
   "outputs": [],
   "source": [
    "#upside_down = cv2.flip(src, -1)"
   ]
  },
  {
   "cell_type": "code",
   "execution_count": 19,
   "id": "5c4becb2-882c-4fbc-b875-d371ba7bc26f",
   "metadata": {},
   "outputs": [
    {
     "data": {
      "text/plain": [
       "-1"
      ]
     },
     "execution_count": 19,
     "metadata": {},
     "output_type": "execute_result"
    }
   ],
   "source": [
    "cv2.imshow('Image', src)\n",
    "cv2.imshow('Crop 1', crop1)\n",
    "cv2.waitKey(10000) # 0 forever "
   ]
  },
  {
   "cell_type": "code",
   "execution_count": 20,
   "id": "ff5b780b-865f-462b-a457-c89e50505254",
   "metadata": {},
   "outputs": [],
   "source": [
    "cv2.destroyAllWindows()"
   ]
  },
  {
   "cell_type": "code",
   "execution_count": null,
   "id": "aebbbc5c-8c1b-4983-97e6-e4cf5e535db2",
   "metadata": {},
   "outputs": [],
   "source": []
  }
 ],
 "metadata": {
  "kernelspec": {
   "display_name": "Python KOSA",
   "language": "python",
   "name": "kosa"
  },
  "language_info": {
   "codemirror_mode": {
    "name": "ipython",
    "version": 3
   },
   "file_extension": ".py",
   "mimetype": "text/x-python",
   "name": "python",
   "nbconvert_exporter": "python",
   "pygments_lexer": "ipython3",
   "version": "3.8.12"
  }
 },
 "nbformat": 4,
 "nbformat_minor": 5
}
