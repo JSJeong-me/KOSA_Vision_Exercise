{
 "cells": [
  {
   "cell_type": "code",
   "execution_count": 1,
   "id": "045bb924-5710-45b8-bf5a-6044e1bdbf99",
   "metadata": {},
   "outputs": [],
   "source": [
    "import cv2\n",
    "import numpy as np"
   ]
  },
  {
   "cell_type": "code",
   "execution_count": 2,
   "id": "8ec81fab-5325-48df-b315-4774e5a8705f",
   "metadata": {},
   "outputs": [],
   "source": [
    "src1 = cv2.imread('.\\\\images\\\\signal1.jpg')"
   ]
  },
  {
   "cell_type": "code",
   "execution_count": 3,
   "id": "e1ce948c-bdee-48f3-ac1b-8e6a907f8c37",
   "metadata": {},
   "outputs": [],
   "source": [
    "src2 = cv2.cvtColor(src1, cv2.COLOR_BGR2HSV)"
   ]
  },
  {
   "cell_type": "markdown",
   "id": "fa5ae5ce-87cd-49fe-839f-6bf89ac86832",
   "metadata": {},
   "source": [
    "69 81 130\n",
    "255 255 255   # Green\n",
    "\n",
    "19 0 237 255 255 255  # Yellow  \n",
    "\n",
    "0  185 215\n",
    "255 255 255   # Red"
   ]
  },
  {
   "cell_type": "code",
   "execution_count": null,
   "id": "acbb5cfe-d115-4e27-80c7-47b85fd48131",
   "metadata": {},
   "outputs": [],
   "source": [
    "# 21 39 183\n",
    "#"
   ]
  },
  {
   "cell_type": "code",
   "execution_count": 4,
   "id": "dad0de76-673c-4b60-82ba-1b0ecad0891e",
   "metadata": {},
   "outputs": [],
   "source": [
    "low_green = np.array([66, 80, 125])\n",
    "high_green = np.array([255, 255, 255])"
   ]
  },
  {
   "cell_type": "code",
   "execution_count": 5,
   "id": "9aa0eb8a-e179-4a7b-bd53-2567576e15fc",
   "metadata": {},
   "outputs": [],
   "source": [
    "low_yellow = np.array([18, 0, 235])\n",
    "high_yellow = np.array([255, 255, 255])"
   ]
  },
  {
   "cell_type": "code",
   "execution_count": 6,
   "id": "932d86c9-24e4-423e-ace5-59379c8ed310",
   "metadata": {},
   "outputs": [],
   "source": [
    "low_red = np.array([0, 183, 213])\n",
    "high_red = np.array([255, 255, 255])"
   ]
  },
  {
   "cell_type": "code",
   "execution_count": 7,
   "id": "5831080f-629e-4a24-b8db-a315ed7b5e79",
   "metadata": {},
   "outputs": [],
   "source": [
    "mask = cv2.inRange(src2, low_green, high_green)\n",
    "#mask = cv2.inRange(src2, low_yellow, high_yellow)\n",
    "#mask = cv2.inRange(src2, low_red, high_red)"
   ]
  },
  {
   "cell_type": "code",
   "execution_count": 8,
   "id": "c8d63fb8-a286-4f65-846b-32047bf02058",
   "metadata": {},
   "outputs": [],
   "source": [
    "#mask_inv = cv2.bitwise_not(mask)"
   ]
  },
  {
   "cell_type": "code",
   "execution_count": 9,
   "id": "2b90761e-fd23-4b74-8df8-bea175ce3141",
   "metadata": {},
   "outputs": [],
   "source": [
    "src1_sub = cv2.bitwise_and(src2, src2, mask = mask)"
   ]
  },
  {
   "cell_type": "code",
   "execution_count": 10,
   "id": "0c8a5ed6-890a-45da-a66c-0caa9f1670a2",
   "metadata": {},
   "outputs": [],
   "source": [
    "cv2.imshow('Signal', src1)\n",
    "cv2.imshow('Mask', mask)\n",
    "cv2.imshow('Substraction', src1_sub)\n",
    "cv2.waitKey(0) # 0 forever \n",
    "cv2.destroyAllWindows()"
   ]
  },
  {
   "cell_type": "code",
   "execution_count": null,
   "id": "0e4c55ac-78d6-47d7-a000-a5f5068a5c18",
   "metadata": {},
   "outputs": [],
   "source": []
  },
  {
   "cell_type": "code",
   "execution_count": 11,
   "id": "7580eae8-eff8-45ea-acf6-0addf27f7069",
   "metadata": {},
   "outputs": [
    {
     "ename": "NameError",
     "evalue": "name 'RGB' is not defined",
     "output_type": "error",
     "traceback": [
      "\u001b[1;31m---------------------------------------------------------------------------\u001b[0m",
      "\u001b[1;31mNameError\u001b[0m                                 Traceback (most recent call last)",
      "\u001b[1;32m~\\AppData\\Local\\Temp/ipykernel_13232/2353928763.py\u001b[0m in \u001b[0;36m<module>\u001b[1;34m\u001b[0m\n\u001b[1;32m----> 1\u001b[1;33m \u001b[0mRGB\u001b[0m\u001b[1;33m(\u001b[0m\u001b[1;36m251\u001b[0m\u001b[1;33m,\u001b[0m \u001b[1;36m208\u001b[0m\u001b[1;33m,\u001b[0m \u001b[1;36m22\u001b[0m\u001b[1;33m)\u001b[0m\u001b[1;33m\u001b[0m\u001b[1;33m\u001b[0m\u001b[0m\n\u001b[0m\u001b[0;32m      2\u001b[0m \u001b[0mRGB\u001b[0m\u001b[1;33m(\u001b[0m\u001b[1;36m255\u001b[0m\u001b[1;33m,\u001b[0m \u001b[1;36m213\u001b[0m\u001b[1;33m,\u001b[0m \u001b[1;36m5\u001b[0m\u001b[1;33m)\u001b[0m\u001b[1;33m\u001b[0m\u001b[1;33m\u001b[0m\u001b[0m\n",
      "\u001b[1;31mNameError\u001b[0m: name 'RGB' is not defined"
     ]
    }
   ],
   "source": [
    "RGB(251, 208, 22)\n",
    "RGB(255, 213, 5)"
   ]
  },
  {
   "cell_type": "code",
   "execution_count": null,
   "id": "ddb100e0-f6c6-4f1b-b351-ccb8a0249155",
   "metadata": {},
   "outputs": [],
   "source": [
    "import numpy as np\n",
    "\n",
    "low = np.array([251, 208, 5])\n",
    "high = np.array([255, 213, 22])"
   ]
  },
  {
   "cell_type": "code",
   "execution_count": null,
   "id": "c1d79a91-41b2-4355-acbf-d6de1e5fb174",
   "metadata": {},
   "outputs": [],
   "source": [
    "import cv2\n",
    "\n",
    "src = cv2.imread('.\\\\images\\\\bicycle.png', cv2.IMREAD_UNCHANGED)\n",
    "src = cv2.resize(src, (0, 0), fx=0.3, fy=0.3)\n",
    "src_rgb = cv2.cvtColor(src, cv2.COLOR_BGR2RGB)"
   ]
  },
  {
   "cell_type": "code",
   "execution_count": null,
   "id": "3a6ff0f4-7918-443f-9a51-00acc142b62c",
   "metadata": {},
   "outputs": [],
   "source": [
    "mask = cv2.inRange(src_rgb, low, high)\n",
    "result = cv2.bitwise_and(src, src, mask=mask)"
   ]
  },
  {
   "cell_type": "code",
   "execution_count": null,
   "id": "ed7fca1f-a969-4c32-b20a-46b664ea516c",
   "metadata": {},
   "outputs": [],
   "source": [
    "cv2.imshow('Image', src)\n",
    "cv2.imshow('Bicycle yellow', result)\n",
    "cv2.waitKey(0)\n",
    "cv2.destroyAllWindows()"
   ]
  },
  {
   "cell_type": "code",
   "execution_count": null,
   "id": "f14dcdc4-0381-4191-bf69-c9837d3e08e6",
   "metadata": {},
   "outputs": [],
   "source": []
  },
  {
   "cell_type": "code",
   "execution_count": null,
   "id": "4decc97b-04f9-4368-818e-3ea354f84d45",
   "metadata": {},
   "outputs": [],
   "source": [
    "import matplotlib.pyplot as plt"
   ]
  },
  {
   "cell_type": "code",
   "execution_count": null,
   "id": "2d4d1f99-7abb-41f3-8872-8c84b0c9fcb5",
   "metadata": {},
   "outputs": [],
   "source": [
    "plt.imshow(src)\n",
    "plt.show()"
   ]
  },
  {
   "cell_type": "code",
   "execution_count": null,
   "id": "01aa33dc-9395-43d2-86d5-51ef4602f076",
   "metadata": {},
   "outputs": [],
   "source": [
    "plt.imshow(src)\n",
    "plt.show()"
   ]
  },
  {
   "cell_type": "code",
   "execution_count": null,
   "id": "14a8e753-db5b-4c43-a8f4-fd59c4b67402",
   "metadata": {},
   "outputs": [],
   "source": []
  },
  {
   "cell_type": "code",
   "execution_count": null,
   "id": "bb607659-d16a-48de-99f6-aa8631addcf1",
   "metadata": {},
   "outputs": [],
   "source": [
    "b,g,r = cv2.split(src)"
   ]
  },
  {
   "cell_type": "code",
   "execution_count": null,
   "id": "7ad9050b-e392-4c30-89c8-05db10f35f58",
   "metadata": {},
   "outputs": [],
   "source": [
    "reverse_img = cv2.merge((r,g,b))"
   ]
  },
  {
   "cell_type": "code",
   "execution_count": null,
   "id": "cbd1c40a-20d5-4f50-b715-af01fb481766",
   "metadata": {},
   "outputs": [],
   "source": [
    "dst = cv2.resize(reverse_img, dsize=(640, 480), interpolation = cv2.INTER_NEAREST)"
   ]
  },
  {
   "cell_type": "code",
   "execution_count": null,
   "id": "0992325a-ef84-4c90-bde2-8a135aee2b72",
   "metadata": {},
   "outputs": [],
   "source": [
    "dst2 = cv2.resize(src, dsize=(0,0), fx=1, fy=1, interpolation = cv2.INTER_NEAREST)"
   ]
  },
  {
   "cell_type": "code",
   "execution_count": null,
   "id": "4372bb92-34a4-4b43-9043-850375ea86ee",
   "metadata": {
    "jupyter": {
     "source_hidden": true
    },
    "tags": []
   },
   "outputs": [],
   "source": [
    "#dst3 = cv2.resize(src, dsize=(0,0), fx=0.3, fy=0.3, interpolation = cv2.INTER_AREA)"
   ]
  },
  {
   "cell_type": "code",
   "execution_count": null,
   "id": "da3a7d97-330a-4a6a-a0f3-f8138b9b6fa7",
   "metadata": {},
   "outputs": [],
   "source": [
    "#dst = cv2.resize(src, dsize[, dst[, fx[, fy[, interpolation]]]]\t)"
   ]
  },
  {
   "cell_type": "code",
   "execution_count": null,
   "id": "88f11da0-01e5-4196-b4f0-e7790346d61a",
   "metadata": {},
   "outputs": [],
   "source": [
    "src.shape"
   ]
  },
  {
   "cell_type": "code",
   "execution_count": null,
   "id": "e1fd0472-09e5-4bdc-b768-a5055089314d",
   "metadata": {},
   "outputs": [],
   "source": [
    "#upside_down = cv2.flip(src, -1)"
   ]
  },
  {
   "cell_type": "code",
   "execution_count": null,
   "id": "5c4becb2-882c-4fbc-b875-d371ba7bc26f",
   "metadata": {},
   "outputs": [],
   "source": [
    "cv2.imshow('Image', dst)\n",
    "cv2.imshow('Image - nearest', dst2)\n",
    "#cv2.imshow('Image - area', dst3)\n",
    "#cv2.imwrite('.\\\\lotte-image.jpg',dst3)\n",
    "cv2.waitKey(0) # 0 forever \n",
    "cv2.destroyAllWindows()"
   ]
  },
  {
   "cell_type": "code",
   "execution_count": null,
   "id": "aebbbc5c-8c1b-4983-97e6-e4cf5e535db2",
   "metadata": {},
   "outputs": [],
   "source": [
    "!cd"
   ]
  }
 ],
 "metadata": {
  "kernelspec": {
   "display_name": "Python KOSA",
   "language": "python",
   "name": "kosa"
  },
  "language_info": {
   "codemirror_mode": {
    "name": "ipython",
    "version": 3
   },
   "file_extension": ".py",
   "mimetype": "text/x-python",
   "name": "python",
   "nbconvert_exporter": "python",
   "pygments_lexer": "ipython3",
   "version": "3.8.12"
  }
 },
 "nbformat": 4,
 "nbformat_minor": 5
}
