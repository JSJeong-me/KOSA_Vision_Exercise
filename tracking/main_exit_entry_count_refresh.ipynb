{
 "cells": [
  {
   "cell_type": "code",
   "execution_count": 1,
   "metadata": {
    "id": "wWNzEX4bNoti"
   },
   "outputs": [],
   "source": [
    "import math\n",
    "\n",
    "class EuclideanDistTracker:\n",
    "    def __init__(self):\n",
    "        # Store the center positions of the objects\n",
    "        self.center_points = {}\n",
    "        # Keep the count of the IDs\n",
    "        # each time a new object id detected, the count will increase by one\n",
    "        self.id_count = 0\n",
    "\n",
    "\n",
    "    def update(self, objects_rect):\n",
    "        # Objects boxes and ids\n",
    "        objects_bbs_ids = []\n",
    "\n",
    "        # Get center point of new object\n",
    "        for rect in objects_rect:\n",
    "            x, y, w, h = rect\n",
    "            cx = (x + x + w) // 2\n",
    "            cy = (y + y + h) // 2\n",
    "\n",
    "            # Find out if that object was detected already\n",
    "            same_object_detected = False\n",
    "            for id, pt in self.center_points.items():\n",
    "                dist = math.hypot(cx - pt[0], cy - pt[1])\n",
    "\n",
    "                if dist < 25:\n",
    "                    self.center_points[id] = (cx, cy)\n",
    "                    print(self.center_points)\n",
    "                    objects_bbs_ids.append([x, y, w, h, id])\n",
    "                    same_object_detected = True\n",
    "                    break\n",
    "\n",
    "            # New object is detected we assign the ID to that object\n",
    "            if same_object_detected is False:\n",
    "                self.center_points[self.id_count] = (cx, cy)\n",
    "                objects_bbs_ids.append([x, y, w, h, self.id_count])\n",
    "                self.id_count += 1\n",
    "\n",
    "        # Clean the dictionary by center points to remove IDS not used anymore\n",
    "        new_center_points = {}\n",
    "        for obj_bb_id in objects_bbs_ids:\n",
    "            _, _, _, _, object_id = obj_bb_id\n",
    "            center = self.center_points[object_id]\n",
    "            new_center_points[object_id] = center\n",
    "\n",
    "        # Update dictionary with IDs not used removed\n",
    "        self.center_points = new_center_points.copy()\n",
    "        return objects_bbs_ids"
   ]
  },
  {
   "cell_type": "code",
   "execution_count": 2,
   "metadata": {
    "id": "5GXRIr5xNotp"
   },
   "outputs": [],
   "source": [
    "import cv2\n",
    "#from tracker import *"
   ]
  },
  {
   "cell_type": "code",
   "execution_count": 4,
   "metadata": {
    "id": "pVlT3QZgNotq",
    "outputId": "79ef71e2-3fa2-4c61-a84c-42eddfb39c4f"
   },
   "outputs": [],
   "source": [
    "# Create tracker object\n",
    "tracker = EuclideanDistTracker()\n",
    "\n",
    "cap = cv2.VideoCapture(\"B3-Parking.avi\")\n",
    "#cap = cv2.VideoCapture(r\"C:\\Users\\5gang_013\\Desktop\\pklot.mp4\")\n",
    "\n",
    "\n",
    "# Object detection from Stable camera\n",
    "object_detector = cv2.createBackgroundSubtractorMOG2(history=300, varThreshold=25, detectShadows=False)\n",
    "#object_detector = cv2.createBackgroundSubtractorKNN(history=100, dist2Threshold = 12.0, detectShadows=False)\n",
    "\n",
    "\n",
    "while True:\n",
    "    ret, frame = cap.read()\n",
    "    height, width, _ = frame.shape\n",
    "\n",
    "    if not ret:\n",
    "        break\n",
    "    \n",
    "    # Extract Region of interest\n",
    "    roi = frame[120: 160, 50: 70]\n",
    "    #roi = frame[170: 200 , 570: 600]\n",
    "    # roi = frame[340: 720,500: 800]\n",
    "\n",
    "    # 1. Object Detection\n",
    "    mask = object_detector.apply(roi)\n",
    "    _, mask = cv2.threshold(mask, 200, 255, cv2.THRESH_BINARY)\n",
    "    contours, _ = cv2.findContours(mask, cv2.RETR_TREE, cv2.CHAIN_APPROX_SIMPLE)\n",
    "    detections = []\n",
    "    for cnt in contours:\n",
    "        # Calculate area and remove small elements\n",
    "        area = cv2.contourArea(cnt)\n",
    "        if area > 220:\n",
    "            #cv2.drawContours(roi, [cnt], -1, (0, 255, 0), 2)\n",
    "            x, y, w, h = cv2.boundingRect(cnt)\n",
    "\n",
    "\n",
    "            detections.append([x, y, w, h])\n",
    "\n",
    "    # 2. Object Tracking\n",
    "    boxes_ids = tracker.update(detections)\n",
    "    for box_id in boxes_ids:\n",
    "        x, y, w, h, id = box_id\n",
    "        cv2.putText(roi, str(id), (x, y - 15), cv2.FONT_HERSHEY_PLAIN, 2, (255, 0, 0), 2)\n",
    "        cv2.rectangle(roi, (x, y), (x + w, y + h), (0, 255, 0), 3)\n",
    "\n",
    "\n",
    "    entrynum = []\n",
    "    entrynum.append(id)       \n",
    "        \n",
    "    cv2.imshow(\"roi\", roi)\n",
    "    cv2.imshow(\"Frame\", frame)\n",
    "    cv2.imshow(\"Mask\", mask)\n",
    "\n",
    "    \n",
    "    key = cv2.waitKey(30)\n",
    "    if key == 27:\n",
    "        break\n",
    "        \n",
    "#print(entrynum)\n",
    "#df = DataFrame(entrynum ,columns=['Entry'])\n",
    "#df.to_csv(r'C:\\Users\\5gang_013\\Desktop\\Entry.csv',index=None)\n",
    "\n",
    "\n",
    "cap.release()\n",
    "cv2.destroyAllWindows()"
   ]
  },
  {
   "cell_type": "code",
   "execution_count": null,
   "metadata": {
    "id": "VO6INx4YNotr"
   },
   "outputs": [],
   "source": []
  },
  {
   "cell_type": "code",
   "execution_count": null,
   "metadata": {
    "id": "70yRfJhxNotr"
   },
   "outputs": [],
   "source": []
  }
 ],
 "metadata": {
  "colab": {
   "name": "main_exit_entry_count_refresh.ipynb",
   "provenance": []
  },
  "kernelspec": {
   "display_name": "Python KOSA",
   "language": "python",
   "name": "kosa"
  },
  "language_info": {
   "codemirror_mode": {
    "name": "ipython",
    "version": 3
   },
   "file_extension": ".py",
   "mimetype": "text/x-python",
   "name": "python",
   "nbconvert_exporter": "python",
   "pygments_lexer": "ipython3",
   "version": "3.8.3"
  }
 },
 "nbformat": 4,
 "nbformat_minor": 4
}
