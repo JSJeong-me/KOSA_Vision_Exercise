{
 "cells": [
  {
   "cell_type": "code",
   "execution_count": null,
   "id": "a1825fb6",
   "metadata": {},
   "outputs": [],
   "source": []
  },
  {
   "cell_type": "markdown",
   "id": "5534d89a",
   "metadata": {},
   "source": [
    "lines = cv2.HoughLines(img, rho, theta, threshold, lines, srn=0, stn=0, min_theta, max_theta)\n",
    "img: 입력 이미지, 1 채널 바이너리 스케일\n",
    "rho: 거리 측정 해상도, 0~1\n",
    "theta: 각도, 라디안 단위 (np.pi/0~180)\n",
    "threshold: 직선으로 판단할 최소한의 동일 개수 (작은 값: 정확도 감소, 검출 개수 증가 / 큰 값: 정확도 증가, 검출 개수 감소)\n",
    "lines: 검출 결과, N x 1 x 2 배열 (r, Θ)\n",
    "srn, stn: 멀티 스케일 허프 변환에 사용, 선 검출에서는 사용 안 함\n",
    "min_theta, max_theta: 검출을 위해 사용할 최대, 최소 각도\n",
    "\n",
    "거리와 각도를 얼마나 세밀하게 계산할 것인지를 rho와 theta 파라미터로 조정할 수 있습니다. threshold는 같은 직선에 몇 개의 점이 등장해야 직선으로 판단할지를 나타내는 최소한의 개수\n",
    "\n",
    "우선 캐니 엣지로 경계값을 검출한 뒤 허프 선 검출"
   ]
  },
  {
   "cell_type": "code",
   "execution_count": 3,
   "id": "dfce0f2d",
   "metadata": {},
   "outputs": [],
   "source": [
    "# 허프 선 검출 (hough_line.py)\n",
    "\n",
    "import cv2\n",
    "import numpy as np\n",
    "\n",
    "img = cv2.imread('.\\\\..\\\\images\\\\sudoku.png')\n",
    "img2 = img.copy()\n",
    "h, w = img.shape[:2]\n",
    "# 그레이 스케일 변환 및 엣지 검출 ---①\n",
    "imgray = cv2.cvtColor(img, cv2.COLOR_BGR2GRAY)\n",
    "edges = cv2.Canny(imgray, 100, 200 )"
   ]
  },
  {
   "cell_type": "code",
   "execution_count": 4,
   "id": "75f837e7",
   "metadata": {},
   "outputs": [],
   "source": [
    "# 허프 선 검출, 직선으로 판단할 최소한의 점은 130개로 지정 ---②\n",
    "lines = cv2.HoughLines(edges, 1, np.pi/180, 130)\n",
    "for line in lines: # 검출된 모든 선 순회\n",
    "    r,theta = line[0] # 거리와 각도\n",
    "    tx, ty = np.cos(theta), np.sin(theta) # x, y축에 대한 삼각비\n",
    "    x0, y0 = tx*r, ty*r  #x, y 기준(절편) 좌표\n",
    "    # 기준 좌표에 빨강색 점 그리기\n",
    "    cv2.circle(img2, (abs(x0), abs(y0)), 3, (0,0,255), -1)\n",
    "    # 직선 방정식으로 그리기 위한 시작점, 끝점 계산\n",
    "    x1, y1 = int(x0 + w*(-ty)), int(y0 + h * tx)\n",
    "    x2, y2 = int(x0 - w*(-ty)), int(y0 - h * tx)\n",
    "    # 선그리기\n",
    "    cv2.line(img2, (x1, y1), (x2, y2), (0,255,0), 1)\n",
    "\n",
    "#결과 출력    \n",
    "merged = np.hstack((img, img2))\n",
    "cv2.imshow('hough line', merged)\n",
    "cv2.waitKey()\n",
    "cv2.destroyAllWindows()"
   ]
  },
  {
   "cell_type": "markdown",
   "id": "e7bf5f52",
   "metadata": {},
   "source": []
  },
  {
   "cell_type": "markdown",
   "id": "18cd78d2",
   "metadata": {},
   "source": [
    "확률적 허프 선 변환\n",
    "허프 선 검출은 모든 점에 대해 수많은 선을 그어서 직선을 찾기 때문에 연산량이 무척 많습니다. 이를 개선하기 위한 방법이 확률적 허프 선 변환입니다. 이는 모든 점을 고려하지 않고 무작위로 선정한 픽셀에 대해 허프 변환을 수행하고 점차 그 수를 증가시키는 방법입니다. 다음의 함수로 확률적 허프 선 변환을 수행\n",
    "\n",
    "\n",
    "lines = cv2.HoughLinesP(img, rho, theta, threshold, lines, minLineLength, maxLineGap)\n",
    "minLineLength(optional): 선으로 인정할 최소 길이\n",
    "maxLineGap(optional): 선으로 판단할 최대 간격\n",
    "lines: 검출된 선 좌표, N x 1 x 4 배열 (x1, y1, x2, y2)\n",
    "이외의 파라미터는 cv2.HoughLines()와 동일"
   ]
  },
  {
   "cell_type": "code",
   "execution_count": 2,
   "id": "eb9743fc",
   "metadata": {},
   "outputs": [],
   "source": [
    "# 확률 허프 변환으로 선 검출 (hough_lineP.py)\n",
    "\n",
    "import cv2\n",
    "import numpy as np\n",
    "\n",
    "img = cv2.imread('.\\\\..\\\\images\\\\sudoku.png')\n",
    "img2 = img.copy()\n",
    "# 그레이 스케일로 변환 및 엣지 검출 ---①\n",
    "imgray = cv2.cvtColor(img, cv2.COLOR_BGR2GRAY)\n",
    "edges = cv2.Canny(imgray, 50, 200 )\n",
    "\n",
    "# 확율 허프 변환 적용 ---②\n",
    "lines = cv2.HoughLinesP(edges, 1, np.pi/180, 10, None, 20, 2)\n",
    "for line in lines:\n",
    "    # 검출된 선 그리기 ---③\n",
    "    x1, y1, x2, y2 = line[0]\n",
    "    cv2.line(img2, (x1,y1), (x2, y2), (0,255,0), 1)\n",
    "\n",
    "merged = np.hstack((img, img2))\n",
    "cv2.imshow('Probability hough line', merged)\n",
    "cv2.waitKey()\n",
    "cv2.destroyAllWindows()"
   ]
  },
  {
   "cell_type": "code",
   "execution_count": null,
   "id": "6bb9f34c",
   "metadata": {},
   "outputs": [],
   "source": []
  }
 ],
 "metadata": {
  "kernelspec": {
   "display_name": "Python KOSA",
   "language": "python",
   "name": "kosa"
  },
  "language_info": {
   "codemirror_mode": {
    "name": "ipython",
    "version": 3
   },
   "file_extension": ".py",
   "mimetype": "text/x-python",
   "name": "python",
   "nbconvert_exporter": "python",
   "pygments_lexer": "ipython3",
   "version": "3.8.3"
  }
 },
 "nbformat": 4,
 "nbformat_minor": 5
}
