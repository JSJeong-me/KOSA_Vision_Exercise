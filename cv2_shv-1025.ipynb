{
 "cells": [
  {
   "cell_type": "code",
   "execution_count": 9,
   "id": "be4c0616-def1-4841-b999-688a123e280e",
   "metadata": {},
   "outputs": [
    {
     "name": "stdout",
     "output_type": "stream",
     "text": [
      "C:\\Users\\COM\\Desktop\\KOSA_Vision_Exercise-main\n"
     ]
    }
   ],
   "source": [
    "!cd"
   ]
  },
  {
   "cell_type": "code",
   "execution_count": 1,
   "id": "c0fd20cd-5580-416c-896f-fab5ff83163e",
   "metadata": {},
   "outputs": [],
   "source": [
    "import cv2\n",
    "import numpy as np"
   ]
  },
  {
   "cell_type": "code",
   "execution_count": 2,
   "id": "8ec81fab-5325-48df-b315-4774e5a8705f",
   "metadata": {},
   "outputs": [],
   "source": [
    "src1 = cv2.imread('.\\\\images\\\\signal1.jpg')"
   ]
  },
  {
   "cell_type": "code",
   "execution_count": 3,
   "id": "e1ce948c-bdee-48f3-ac1b-8e6a907f8c37",
   "metadata": {},
   "outputs": [],
   "source": [
    "src2 = cv2.cvtColor(src1, cv2.COLOR_BGR2HSV)"
   ]
  },
  {
   "cell_type": "markdown",
   "id": "a0f69c3d-078f-4f6c-90d4-dbc0ad5df2da",
   "metadata": {},
   "source": [
    "63 79 132\n",
    "255 255 255"
   ]
  },
  {
   "cell_type": "code",
   "execution_count": 4,
   "id": "a7747c16-b065-4ace-9033-7baf287905ba",
   "metadata": {},
   "outputs": [],
   "source": [
    "low_yellow = np.array([62, 77, 130])\n",
    "high_yellow = np.array([255, 255, 255])"
   ]
  },
  {
   "cell_type": "code",
   "execution_count": 5,
   "id": "5831080f-629e-4a24-b8db-a315ed7b5e79",
   "metadata": {},
   "outputs": [],
   "source": [
    "mask = cv2.inRange(src2, low_yellow, high_yellow)"
   ]
  },
  {
   "cell_type": "code",
   "execution_count": 6,
   "id": "c8d63fb8-a286-4f65-846b-32047bf02058",
   "metadata": {},
   "outputs": [],
   "source": [
    "#mask_inv = cv2.bitwise_not(mask)"
   ]
  },
  {
   "cell_type": "code",
   "execution_count": 7,
   "id": "2b90761e-fd23-4b74-8df8-bea175ce3141",
   "metadata": {},
   "outputs": [],
   "source": [
    "src1_sub = cv2.bitwise_and(src2, src2, mask = mask)"
   ]
  },
  {
   "cell_type": "code",
   "execution_count": 8,
   "id": "0c8a5ed6-890a-45da-a66c-0caa9f1670a2",
   "metadata": {},
   "outputs": [],
   "source": [
    "cv2.imshow('Signal', src1)\n",
    "#cv2.imshow('Bicycle2', src2)\n",
    "cv2.imshow('Mask', mask)\n",
    "cv2.imshow('Substraction', src1_sub)\n",
    "cv2.waitKey(0) # 0 forever \n",
    "cv2.destroyAllWindows()"
   ]
  },
  {
   "cell_type": "code",
   "execution_count": null,
   "id": "0e4c55ac-78d6-47d7-a000-a5f5068a5c18",
   "metadata": {},
   "outputs": [],
   "source": []
  },
  {
   "cell_type": "code",
   "execution_count": null,
   "id": "f14dcdc4-0381-4191-bf69-c9837d3e08e6",
   "metadata": {},
   "outputs": [],
   "source": []
  },
  {
   "cell_type": "code",
   "execution_count": null,
   "id": "14a8e753-db5b-4c43-a8f4-fd59c4b67402",
   "metadata": {},
   "outputs": [],
   "source": []
  }
 ],
 "metadata": {
  "kernelspec": {
   "display_name": "Python KOSA",
   "language": "python",
   "name": "kosa"
  },
  "language_info": {
   "codemirror_mode": {
    "name": "ipython",
    "version": 3
   },
   "file_extension": ".py",
   "mimetype": "text/x-python",
   "name": "python",
   "nbconvert_exporter": "python",
   "pygments_lexer": "ipython3",
   "version": "3.8.12"
  }
 },
 "nbformat": 4,
 "nbformat_minor": 5
}
