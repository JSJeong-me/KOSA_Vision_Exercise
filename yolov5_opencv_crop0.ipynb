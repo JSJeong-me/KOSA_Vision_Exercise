{
 "cells": [
  {
   "cell_type": "code",
   "execution_count": 1,
   "id": "42497174-7e13-4abc-87a3-c9d64b40939e",
   "metadata": {},
   "outputs": [],
   "source": [
    "#conda install -c conda-forge ipywidgets"
   ]
  },
  {
   "cell_type": "code",
   "execution_count": 2,
   "id": "1d433231-52b9-4e32-a85a-53b3721d67dd",
   "metadata": {},
   "outputs": [],
   "source": [
    "import torch"
   ]
  },
  {
   "cell_type": "code",
   "execution_count": 3,
   "id": "34532b9d-9b39-4e74-9adc-cedaf8aa0199",
   "metadata": {},
   "outputs": [
    {
     "name": "stderr",
     "output_type": "stream",
     "text": [
      "Using cache found in C:\\Users\\COM/.cache\\torch\\hub\\ultralytics_yolov5_master\n",
      "YOLOv5  2021-10-20 torch 1.9.1 CPU\n",
      "\n",
      "Fusing layers... \n",
      "Model Summary: 213 layers, 7225885 parameters, 0 gradients\n",
      "Adding AutoShape... \n"
     ]
    }
   ],
   "source": [
    "# Model\n",
    "model = torch.hub.load('ultralytics/yolov5', 'yolov5s')"
   ]
  },
  {
   "cell_type": "code",
   "execution_count": 4,
   "id": "07401a6c-1224-433b-a92e-c486ea5f8e02",
   "metadata": {},
   "outputs": [],
   "source": [
    "# Image\n",
    "img = '.\\\\zidane.jpg'"
   ]
  },
  {
   "cell_type": "code",
   "execution_count": 5,
   "id": "29710d42-22f0-48b7-bb32-f07a5bf822b1",
   "metadata": {},
   "outputs": [
    {
     "data": {
      "text/html": [
       "<div>\n",
       "<style scoped>\n",
       "    .dataframe tbody tr th:only-of-type {\n",
       "        vertical-align: middle;\n",
       "    }\n",
       "\n",
       "    .dataframe tbody tr th {\n",
       "        vertical-align: top;\n",
       "    }\n",
       "\n",
       "    .dataframe thead th {\n",
       "        text-align: right;\n",
       "    }\n",
       "</style>\n",
       "<table border=\"1\" class=\"dataframe\">\n",
       "  <thead>\n",
       "    <tr style=\"text-align: right;\">\n",
       "      <th></th>\n",
       "      <th>xmin</th>\n",
       "      <th>ymin</th>\n",
       "      <th>xmax</th>\n",
       "      <th>ymax</th>\n",
       "      <th>confidence</th>\n",
       "      <th>class</th>\n",
       "      <th>name</th>\n",
       "    </tr>\n",
       "  </thead>\n",
       "  <tbody>\n",
       "    <tr>\n",
       "      <th>0</th>\n",
       "      <td>751.908325</td>\n",
       "      <td>45.572327</td>\n",
       "      <td>1148.552368</td>\n",
       "      <td>716.218018</td>\n",
       "      <td>0.875047</td>\n",
       "      <td>0</td>\n",
       "      <td>person</td>\n",
       "    </tr>\n",
       "    <tr>\n",
       "      <th>1</th>\n",
       "      <td>100.012695</td>\n",
       "      <td>201.289734</td>\n",
       "      <td>1002.052612</td>\n",
       "      <td>718.763000</td>\n",
       "      <td>0.579518</td>\n",
       "      <td>0</td>\n",
       "      <td>person</td>\n",
       "    </tr>\n",
       "    <tr>\n",
       "      <th>2</th>\n",
       "      <td>438.405090</td>\n",
       "      <td>421.902405</td>\n",
       "      <td>509.924805</td>\n",
       "      <td>720.000000</td>\n",
       "      <td>0.522343</td>\n",
       "      <td>27</td>\n",
       "      <td>tie</td>\n",
       "    </tr>\n",
       "  </tbody>\n",
       "</table>\n",
       "</div>"
      ],
      "text/plain": [
       "         xmin        ymin         xmax        ymax  confidence  class    name\n",
       "0  751.908325   45.572327  1148.552368  716.218018    0.875047      0  person\n",
       "1  100.012695  201.289734  1002.052612  718.763000    0.579518      0  person\n",
       "2  438.405090  421.902405   509.924805  720.000000    0.522343     27     tie"
      ]
     },
     "execution_count": 5,
     "metadata": {},
     "output_type": "execute_result"
    }
   ],
   "source": [
    "# Inference\n",
    "results = model(img)\n",
    "\n",
    "results.pandas().xyxy[0]"
   ]
  },
  {
   "cell_type": "code",
   "execution_count": null,
   "id": "0be0c66d-da17-433b-9824-8bd9f37efd68",
   "metadata": {},
   "outputs": [],
   "source": []
  },
  {
   "cell_type": "code",
   "execution_count": 6,
   "id": "860e7a13-73c6-4780-905b-c08734962ce7",
   "metadata": {},
   "outputs": [],
   "source": [
    "win1 = results.pandas().xyxy[0]"
   ]
  },
  {
   "cell_type": "code",
   "execution_count": 7,
   "id": "247d7ca3-1cfc-4ee9-89e0-ce462649de30",
   "metadata": {},
   "outputs": [],
   "source": [
    "xmin = win1.iloc[2, 0]"
   ]
  },
  {
   "cell_type": "code",
   "execution_count": 8,
   "id": "7799ebf8-ec77-4c58-b0ec-7b6b0afee6dd",
   "metadata": {},
   "outputs": [],
   "source": [
    "#421:720, 438:509"
   ]
  },
  {
   "cell_type": "code",
   "execution_count": 9,
   "id": "12838055-8ddf-4ad5-9cc2-a1411a6916aa",
   "metadata": {},
   "outputs": [],
   "source": [
    "import cv2"
   ]
  },
  {
   "cell_type": "code",
   "execution_count": 10,
   "id": "468722c2-2096-4382-bb55-26b50d70fedc",
   "metadata": {},
   "outputs": [],
   "source": [
    "src = cv2.imread(img)"
   ]
  },
  {
   "cell_type": "code",
   "execution_count": 11,
   "id": "55cccefd-3dd8-41cc-9ff9-8f85a9f037bf",
   "metadata": {},
   "outputs": [],
   "source": [
    "tie_win = src[201:718, 100:1002] # zidan: 201:718, 100:1002"
   ]
  },
  {
   "cell_type": "code",
   "execution_count": 12,
   "id": "b806f4b9-3339-448d-9681-4252552fc706",
   "metadata": {},
   "outputs": [
    {
     "data": {
      "text/plain": [
       "(517, 902, 3)"
      ]
     },
     "execution_count": 12,
     "metadata": {},
     "output_type": "execute_result"
    }
   ],
   "source": [
    "tie_win.shape"
   ]
  },
  {
   "cell_type": "code",
   "execution_count": 13,
   "id": "c073a9b5-7184-4bb2-abed-740a4da5a73f",
   "metadata": {},
   "outputs": [
    {
     "data": {
      "text/plain": [
       "13"
      ]
     },
     "execution_count": 13,
     "metadata": {},
     "output_type": "execute_result"
    }
   ],
   "source": [
    "cv2.imshow('Image', tie_win)\n",
    "cv2.waitKey(0) # 0 forever"
   ]
  },
  {
   "cell_type": "code",
   "execution_count": 14,
   "id": "cae99078-7c56-4fa9-9511-239c26ca1572",
   "metadata": {},
   "outputs": [],
   "source": [
    "cv2.destroyAllWindows()"
   ]
  },
  {
   "cell_type": "code",
   "execution_count": null,
   "id": "459816e4-86ff-40a9-8cd3-733effe5d212",
   "metadata": {},
   "outputs": [],
   "source": []
  }
 ],
 "metadata": {
  "kernelspec": {
   "display_name": "Python KOSA",
   "language": "python",
   "name": "kosa"
  },
  "language_info": {
   "codemirror_mode": {
    "name": "ipython",
    "version": 3
   },
   "file_extension": ".py",
   "mimetype": "text/x-python",
   "name": "python",
   "nbconvert_exporter": "python",
   "pygments_lexer": "ipython3",
   "version": "3.8.12"
  }
 },
 "nbformat": 4,
 "nbformat_minor": 5
}
