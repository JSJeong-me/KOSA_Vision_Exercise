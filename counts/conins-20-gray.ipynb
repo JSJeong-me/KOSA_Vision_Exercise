{
 "cells": [
  {
   "cell_type": "markdown",
   "metadata": {
    "colab_type": "text",
    "id": "view-in-github"
   },
   "source": [
    "<a href=\"https://colab.research.google.com/github/JSJeong-me/KOSA_Vision_Exercise/blob/main/0-cap-counts-colab.ipynb\" target=\"_parent\"><img src=\"https://colab.research.google.com/assets/colab-badge.svg\" alt=\"Open In Colab\"/></a>"
   ]
  },
  {
   "cell_type": "code",
   "execution_count": 1,
   "metadata": {
    "colab": {
     "base_uri": "https://localhost:8080/"
    },
    "id": "bY-VTZosAglA",
    "outputId": "f1a09973-9f3b-42de-a016-cc33ea8d1311"
   },
   "outputs": [],
   "source": [
    "#!pip install imutils"
   ]
  },
  {
   "cell_type": "code",
   "execution_count": 2,
   "metadata": {
    "id": "p0K0Afl2BWqI"
   },
   "outputs": [],
   "source": [
    "import cv2\n",
    "import numpy as np\n",
    "import sys\n",
    "#from google.colab.patches import cv2_imshow"
   ]
  },
  {
   "cell_type": "code",
   "execution_count": 3,
   "metadata": {
    "id": "p0K0Afl2BWqI"
   },
   "outputs": [
    {
     "name": "stdout",
     "output_type": "stream",
     "text": [
      "C:\\Users\\user\\Desktop\\KOSA_Vision_Exercise-main\n"
     ]
    }
   ],
   "source": [
    "!cd"
   ]
  },
  {
   "cell_type": "code",
   "execution_count": 4,
   "metadata": {
    "colab": {
     "base_uri": "https://localhost:8080/",
     "height": 485
    },
    "id": "EqsnxKB2BAoE",
    "outputId": "48fff080-7db8-4933-ac7e-b81675655bd5"
   },
   "outputs": [],
   "source": [
    "src = cv2.imread('.\\\\images\\\\coins-20.jpg')\n",
    "\n",
    "if src is None:\n",
    "    print('image load failed')\n",
    "    sys.exit()"
   ]
  },
  {
   "cell_type": "code",
   "execution_count": 5,
   "metadata": {
    "colab": {
     "base_uri": "https://localhost:8080/",
     "height": 485
    },
    "id": "EqsnxKB2BAoE",
    "outputId": "48fff080-7db8-4933-ac7e-b81675655bd5"
   },
   "outputs": [],
   "source": [
    "gray = cv2.cvtColor(src, cv2.COLOR_BGR2GRAY)\n",
    "ret, src_bin = cv2.threshold(gray, 0, 255, cv2.THRESH_BINARY_INV | cv2.THRESH_OTSU)"
   ]
  },
  {
   "cell_type": "code",
   "execution_count": 6,
   "metadata": {
    "colab": {
     "base_uri": "https://localhost:8080/",
     "height": 485
    },
    "id": "EqsnxKB2BAoE",
    "outputId": "48fff080-7db8-4933-ac7e-b81675655bd5"
   },
   "outputs": [],
   "source": [
    "blur = cv2.medianBlur(src_bin, 3)"
   ]
  },
  {
   "cell_type": "code",
   "execution_count": 7,
   "metadata": {
    "colab": {
     "base_uri": "https://localhost:8080/",
     "height": 485
    },
    "id": "EqsnxKB2BAoE",
    "outputId": "48fff080-7db8-4933-ac7e-b81675655bd5"
   },
   "outputs": [],
   "source": [
    "# Distance transfrom\n",
    "dist_transform = cv2.distanceTransform(blur, cv2.DIST_L2, 3)\n",
    "ret, isolate_image =  cv2.threshold(dist_transform, 0.5*dist_transform.max(),255,0)"
   ]
  },
  {
   "cell_type": "code",
   "execution_count": 8,
   "metadata": {
    "colab": {
     "base_uri": "https://localhost:8080/",
     "height": 485
    },
    "id": "EqsnxKB2BAoE",
    "outputId": "48fff080-7db8-4933-ac7e-b81675655bd5"
   },
   "outputs": [],
   "source": [
    "last_image = np.uint8(isolate_image)"
   ]
  },
  {
   "cell_type": "code",
   "execution_count": 9,
   "metadata": {
    "colab": {
     "base_uri": "https://localhost:8080/",
     "height": 485
    },
    "id": "EqsnxKB2BAoE",
    "outputId": "48fff080-7db8-4933-ac7e-b81675655bd5"
   },
   "outputs": [
    {
     "name": "stdout",
     "output_type": "stream",
     "text": [
      "Contour : 20\n"
     ]
    }
   ],
   "source": [
    "# the counting of objects and recording the positions of the objects\n",
    "cnts, _ = cv2.findContours(last_image.copy(), cv2.RETR_EXTERNAL, cv2.CHAIN_APPROX_SIMPLE)\n",
    "\n",
    "print('Contour : {0}'.format(len(cnts)))"
   ]
  },
  {
   "cell_type": "code",
   "execution_count": 10,
   "metadata": {
    "colab": {
     "base_uri": "https://localhost:8080/",
     "height": 485
    },
    "id": "EqsnxKB2BAoE",
    "outputId": "48fff080-7db8-4933-ac7e-b81675655bd5"
   },
   "outputs": [],
   "source": [
    "cv2.imshow('Distance Transform',gray )\n",
    "cv2.imshow('Distance image',isolate_image)\n",
    "cv2.waitKey(0)\n",
    "cv2.destroyAllWindows()"
   ]
  },
  {
   "cell_type": "code",
   "execution_count": 5,
   "metadata": {
    "colab": {
     "base_uri": "https://localhost:8080/",
     "height": 485
    },
    "id": "EqsnxKB2BAoE",
    "outputId": "48fff080-7db8-4933-ac7e-b81675655bd5"
   },
   "outputs": [],
   "source": []
  },
  {
   "cell_type": "code",
   "execution_count": 5,
   "metadata": {
    "colab": {
     "base_uri": "https://localhost:8080/",
     "height": 485
    },
    "id": "EqsnxKB2BAoE",
    "outputId": "48fff080-7db8-4933-ac7e-b81675655bd5"
   },
   "outputs": [],
   "source": []
  },
  {
   "cell_type": "code",
   "execution_count": null,
   "metadata": {
    "colab": {
     "base_uri": "https://localhost:8080/",
     "height": 485
    },
    "id": "EqsnxKB2BAoE",
    "outputId": "48fff080-7db8-4933-ac7e-b81675655bd5"
   },
   "outputs": [],
   "source": []
  },
  {
   "cell_type": "code",
   "execution_count": null,
   "metadata": {
    "colab": {
     "base_uri": "https://localhost:8080/",
     "height": 485
    },
    "id": "EqsnxKB2BAoE",
    "outputId": "48fff080-7db8-4933-ac7e-b81675655bd5"
   },
   "outputs": [],
   "source": []
  },
  {
   "cell_type": "code",
   "execution_count": null,
   "metadata": {
    "colab": {
     "base_uri": "https://localhost:8080/",
     "height": 485
    },
    "id": "EqsnxKB2BAoE",
    "outputId": "48fff080-7db8-4933-ac7e-b81675655bd5"
   },
   "outputs": [],
   "source": []
  }
 ],
 "metadata": {
  "colab": {
   "authorship_tag": "ABX9TyN0emXQsb79MsiJvFVSEoWy",
   "include_colab_link": true,
   "name": "Untitled12.ipynb",
   "provenance": []
  },
  "kernelspec": {
   "display_name": "Python 3",
   "language": "python",
   "name": "python3"
  },
  "language_info": {
   "codemirror_mode": {
    "name": "ipython",
    "version": 3
   },
   "file_extension": ".py",
   "mimetype": "text/x-python",
   "name": "python",
   "nbconvert_exporter": "python",
   "pygments_lexer": "ipython3",
   "version": "3.8.3"
  }
 },
 "nbformat": 4,
 "nbformat_minor": 4
}
