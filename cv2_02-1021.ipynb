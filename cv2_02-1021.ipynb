{
 "cells": [
  {
   "cell_type": "code",
   "execution_count": 1,
   "id": "64b38995-563d-4bab-b1eb-d8af5f873080",
   "metadata": {},
   "outputs": [],
   "source": [
    "import cv2\n",
    "import time"
   ]
  },
  {
   "cell_type": "code",
   "execution_count": 2,
   "id": "73234c4b-3e4f-4f96-b59b-b31aae3d9d97",
   "metadata": {},
   "outputs": [],
   "source": [
    "cap = cv2.VideoCapture('beam_welding.mp4') # '.\\\\park_cycle.mp4'"
   ]
  },
  {
   "cell_type": "code",
   "execution_count": 3,
   "id": "2089da5c-a0d1-4d0e-899e-c5d1c3ffbec7",
   "metadata": {},
   "outputs": [],
   "source": [
    "prev_time = 0\n",
    "FPS = 3"
   ]
  },
  {
   "cell_type": "code",
   "execution_count": 4,
   "id": "9decafd9-04f7-4145-b1a1-68326f3c9709",
   "metadata": {},
   "outputs": [],
   "source": [
    "while True:\n",
    "    ret, frame = cap.read()\n",
    "\n",
    "    if not ret:\n",
    "        break\n",
    "        \n",
    "    frame = cv2.resize(frame, (0, 0), fx=.5, fy=.5)\n",
    "    \n",
    "    current_time = time.time() - prev_time\n",
    "\n",
    "    if (ret is True) and (current_time > 1./ FPS):\n",
    "        prev_time = time.time()\n",
    "     \n",
    "        cv2.imshow('frame', frame)\n",
    "        cv2.imwrite('.\\\\beam\\\\beam{0}.jpg'.format(current_time), frame)\n",
    "\n",
    "    if cv2.waitKey(10) == 27:\n",
    "        break\n",
    "\n",
    "cap.release()\n",
    "cv2.destroyAllWindows()"
   ]
  },
  {
   "cell_type": "code",
   "execution_count": 5,
   "id": "97cf2d27-9248-4070-976b-566cf6561538",
   "metadata": {},
   "outputs": [
    {
     "name": "stdout",
     "output_type": "stream",
     "text": [
      "C:\\Users\\COM\\Desktop\n"
     ]
    }
   ],
   "source": [
    "!cd"
   ]
  },
  {
   "cell_type": "code",
   "execution_count": null,
   "id": "6935bf8d-4974-4e40-bea6-9bdd8b75c151",
   "metadata": {},
   "outputs": [],
   "source": []
  }
 ],
 "metadata": {
  "kernelspec": {
   "display_name": "Python KOSA",
   "language": "python",
   "name": "kosa"
  },
  "language_info": {
   "codemirror_mode": {
    "name": "ipython",
    "version": 3
   },
   "file_extension": ".py",
   "mimetype": "text/x-python",
   "name": "python",
   "nbconvert_exporter": "python",
   "pygments_lexer": "ipython3",
   "version": "3.8.12"
  }
 },
 "nbformat": 4,
 "nbformat_minor": 5
}
