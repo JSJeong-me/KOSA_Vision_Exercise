{
 "cells": [
  {
   "cell_type": "markdown",
   "id": "390467a6",
   "metadata": {},
   "source": [
    "opencv에서 변환 전과 후를 짝짓는 4개의 매핑 좌표만 지정해 주면 원근 변환에 필요한 3x3 변환행렬을 계산해주는 cv2.getPerspectiveTransform() 함수를 제공한다.\n",
    "이 함수를 이용하여 얻은 변환행렬을 cv2.warpPerspective() 함수를 이용해 적용한다."
   ]
  },
  {
   "cell_type": "code",
   "execution_count": 1,
   "id": "18401349",
   "metadata": {},
   "outputs": [],
   "source": [
    "import cv2\n",
    "import numpy as np\n",
    "\n",
    "win_name = \"scanning\"\n",
    "img = cv2.imread('.\\\\..\\\\images\\\\paper.jpg')\n",
    "rows, cols = img.shape[:2]\n",
    "draw = img.copy()\n",
    "pts_cnt = 0\n",
    "pts = np.zeros((4,2), dtype=np.float32)"
   ]
  },
  {
   "cell_type": "code",
   "execution_count": 2,
   "id": "4c0bedb5",
   "metadata": {},
   "outputs": [],
   "source": [
    "def onMouse(event, x, y, flags, param):  #마우스 이벤트 콜백 함수 구현 ---① \n",
    "    global  pts_cnt                     # 마우스로 찍은 좌표의 갯수 저장\n",
    "    if event == cv2.EVENT_LBUTTONDOWN:  \n",
    "        cv2.circle(draw, (x,y), 10, (0,255,0), -1) # 좌표에 초록색 동그라미 표시\n",
    "        cv2.imshow(win_name, draw)\n",
    "\n",
    "        pts[pts_cnt] = [x,y]            # 마우스 좌표 저장\n",
    "        pts_cnt+=1\n",
    "        if pts_cnt == 4:                       # 좌표가 4개 수집됨 \n",
    "            # 좌표 4개 중 상하좌우 찾기 ---② \n",
    "            sm = pts.sum(axis=1)                 # 4쌍의 좌표 각각 x+y 계산\n",
    "            diff = np.diff(pts, axis = 1)       # 4쌍의 좌표 각각 x-y 계산\n",
    "\n",
    "            topLeft = pts[np.argmin(sm)]         # x+y가 가장 값이 좌상단 좌표\n",
    "            bottomRight = pts[np.argmax(sm)]     # x+y가 가장 큰 값이 좌상단 좌표\n",
    "            topRight = pts[np.argmin(diff)]     # x-y가 가장 작은 것이 우상단 좌표\n",
    "            bottomLeft = pts[np.argmax(diff)]   # x-y가 가장 큰 값이 좌하단 좌표\n",
    "\n",
    "            # 변환 전 4개 좌표 \n",
    "            pts1 = np.float32([topLeft, topRight, bottomRight , bottomLeft])\n",
    "\n",
    "            # 변환 후 영상에 사용할 서류의 폭과 높이 계산 ---③ \n",
    "            w1 = abs(bottomRight[0] - bottomLeft[0])    # 상단 좌우 좌표간의 거리\n",
    "            w2 = abs(topRight[0] - topLeft[0])          # 하당 좌우 좌표간의 거리\n",
    "            h1 = abs(topRight[1] - bottomRight[1])      # 우측 상하 좌표간의 거리\n",
    "            h2 = abs(topLeft[1] - bottomLeft[1])        # 좌측 상하 좌표간의 거리\n",
    "            width = max([w1, w2])                       # 두 좌우 거리간의 최대값이 서류의 폭\n",
    "            height = max([h1, h2])                      # 두 상하 거리간의 최대값이 서류의 높이\n",
    "            \n",
    "            # 변환 후 4개 좌표\n",
    "            pts2 = np.float32([[0,0], [width-1,0], \n",
    "                                [width-1,height-1], [0,height-1]])\n",
    "\n",
    "            # 변환 행렬 계산 \n",
    "            mtrx = cv2.getPerspectiveTransform(pts1, pts2)\n",
    "            # 원근 변환 적용\n",
    "            result = cv2.warpPerspective(img, mtrx, (width, height))\n",
    "            cv2.imshow('scanned', result)"
   ]
  },
  {
   "cell_type": "code",
   "execution_count": 3,
   "id": "bc07a6a0",
   "metadata": {},
   "outputs": [
    {
     "name": "stderr",
     "output_type": "stream",
     "text": [
      "<ipython-input-2-a939e446f94a>:37: DeprecationWarning: an integer is required (got type numpy.float32).  Implicit conversion to integers using __int__ is deprecated, and may be removed in a future version of Python.\n",
      "  result = cv2.warpPerspective(img, mtrx, (width, height))\n"
     ]
    }
   ],
   "source": [
    "cv2.imshow(win_name, img)\n",
    "cv2.setMouseCallback(win_name, onMouse)    # 마우스 콜백 함수를 GUI 윈도우에 등록 ---④\n",
    "cv2.waitKey(0)\n",
    "cv2.destroyAllWindows()"
   ]
  },
  {
   "cell_type": "code",
   "execution_count": null,
   "id": "11205b26",
   "metadata": {},
   "outputs": [],
   "source": []
  }
 ],
 "metadata": {
  "kernelspec": {
   "display_name": "Python KOSA",
   "language": "python",
   "name": "kosa"
  },
  "language_info": {
   "codemirror_mode": {
    "name": "ipython",
    "version": 3
   },
   "file_extension": ".py",
   "mimetype": "text/x-python",
   "name": "python",
   "nbconvert_exporter": "python",
   "pygments_lexer": "ipython3",
   "version": "3.8.3"
  }
 },
 "nbformat": 4,
 "nbformat_minor": 5
}
