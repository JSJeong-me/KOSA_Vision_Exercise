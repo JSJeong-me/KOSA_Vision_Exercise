{
 "cells": [
  {
   "cell_type": "markdown",
   "id": "3d145af7-0f8e-48b2-b28d-c379e20f2756",
   "metadata": {},
   "source": [
    " Erosion에 대한 예제"
   ]
  },
  {
   "cell_type": "code",
   "execution_count": null,
   "id": "346191da-0f44-4316-9e25-bf281b2af1cd",
   "metadata": {},
   "outputs": [],
   "source": [
    "import cv2\n",
    "import numpy as np\n",
    "from matplotlib import pyplot as plt\n",
    "img = cv2.imread('./data/j.png', 0)\n",
    "kernel = np.ones((6,6), np.uint8)\n",
    "result = cv2.erode(img,kernel, iterations=1)\n",
    "plt.subplot(121),plt.imshow(img, cmap='gray'),plt.title('Original')\n",
    "plt.xticks([]), plt.yticks([])\n",
    "plt.subplot(122),plt.imshow(result, cmap='gray'),plt.title('Result')\n",
    "plt.xticks([]), plt.yticks([])\n",
    "plt.show()"
   ]
  },
  {
   "cell_type": "code",
   "execution_count": null,
   "id": "6f3462c1-f9c0-42f0-b6d5-e0c50a7fbb04",
   "metadata": {},
   "outputs": [],
   "source": [
    "Dilation에 대한 예제"
   ]
  },
  {
   "cell_type": "code",
   "execution_count": null,
   "id": "f31c0915-8aa8-4783-a568-5f0ef987f818",
   "metadata": {},
   "outputs": [],
   "source": [
    "import cv2\n",
    "import numpy as np\n",
    "from matplotlib import pyplot as plt\n",
    "img = cv2.imread('./data/j.png', 0)\n",
    "kernel = np.ones((7,7), np.uint8) \n",
    "result = cv2.dilate(img,kernel, iterations=1)\n",
    "plt.subplot(121),plt.imshow(img, cmap='gray'),plt.title('Original')\n",
    "plt.xticks([]), plt.yticks([])\n",
    "plt.subplot(122),plt.imshow(result, cmap='gray'),plt.title('Result')\n",
    "plt.xticks([]), plt.yticks([])\n",
    "plt.show()"
   ]
  },
  {
   "cell_type": "markdown",
   "id": "6ab6f0b6-21a4-485d-856b-31722d7e5a2e",
   "metadata": {},
   "source": [
    "Opening 연산"
   ]
  },
  {
   "cell_type": "code",
   "execution_count": null,
   "id": "cb07538c-4850-4628-bc38-621823857a73",
   "metadata": {},
   "outputs": [],
   "source": [
    "import cv2\n",
    "import numpy as np\n",
    "from matplotlib import pyplot as plt\n",
    "img = cv2.imread('./data/opening.png', 0)\n",
    "kernel = np.ones((6,6), np.uint8) \n",
    "result = cv2.morphologyEx(img, cv2.MORPH_OPEN, kernel)\n",
    "plt.subplot(121),plt.imshow(img, cmap='gray'),plt.title('Original')\n",
    "plt.xticks([]), plt.yticks([])\n",
    "plt.subplot(122),plt.imshow(result, cmap='gray'),plt.title('Result')\n",
    "plt.xticks([]), plt.yticks([])\n",
    "plt.show()"
   ]
  },
  {
   "cell_type": "markdown",
   "id": "c2992893-9e22-4470-8619-bf72a4f6cd1e",
   "metadata": {},
   "source": [
    "Closing 연산"
   ]
  },
  {
   "cell_type": "code",
   "execution_count": null,
   "id": "fb550a12-00aa-4309-a0fb-b1b6dfc508fb",
   "metadata": {},
   "outputs": [],
   "source": [
    "import cv2\n",
    "import numpy as np\n",
    "from matplotlib import pyplot as plt\n",
    "img = cv2.imread('./data/closing.png', 0)\n",
    "kernel = np.ones((5,5), np.uint8) \n",
    "result = cv2.morphologyEx(img, cv2.MORPH_CLOSE, kernel)\n",
    "plt.subplot(121),plt.imshow(img, cmap='gray'),plt.title('Original')\n",
    "plt.xticks([]), plt.yticks([])\n",
    "plt.subplot(122),plt.imshow(result, cmap='gray'),plt.title('Result')\n",
    "plt.xticks([]), plt.yticks([])\n",
    "plt.show()"
   ]
  },
  {
   "cell_type": "markdown",
   "id": "e04fab02-9186-4d49-95f8-bce45996d174",
   "metadata": {},
   "source": [
    "Morphological Gradient 연산"
   ]
  },
  {
   "cell_type": "code",
   "execution_count": null,
   "id": "ee409df7-8cd4-4119-b90a-b4542e8f3bb0",
   "metadata": {},
   "outputs": [],
   "source": [
    "import cv2\n",
    "import numpy as np\n",
    "from matplotlib import pyplot as plt\n",
    "img = cv2.imread('./data/j.png', 0)\n",
    "kernel = np.ones((5,5), np.uint8) \n",
    "result = cv2.morphologyEx(img, cv2.MORPH_GRADIENT, kernel)\n",
    "plt.subplot(121),plt.imshow(img, cmap='gray'),plt.title('Original')\n",
    "plt.xticks([]), plt.yticks([])\n",
    "plt.subplot(122),plt.imshow(result, cmap='gray'),plt.title('Result')\n",
    "plt.xticks([]), plt.yticks([])\n",
    "plt.show()"
   ]
  },
  {
   "cell_type": "markdown",
   "id": "e2757c6e-06dd-4618-ac63-d22574d04234",
   "metadata": {},
   "source": [
    "Top Hat 연산"
   ]
  },
  {
   "cell_type": "code",
   "execution_count": null,
   "id": "4ba6aa78-af19-4600-9868-35796c4afc37",
   "metadata": {},
   "outputs": [],
   "source": [
    "import cv2\n",
    "import numpy as np\n",
    "from matplotlib import pyplot as plt\n",
    "img = cv2.imread('./data/j.png', 0)\n",
    "kernel = np.ones((9,9), np.uint8) \n",
    "result = cv2.morphologyEx(img, cv2.MORPH_TOPHAT, kernel)\n",
    "plt.subplot(121),plt.imshow(img, cmap='gray'),plt.title('Original')\n",
    "plt.xticks([]), plt.yticks([])\n",
    "plt.subplot(122),plt.imshow(result, cmap='gray'),plt.title('Result')\n",
    "plt.xticks([]), plt.yticks([])\n",
    "plt.show()"
   ]
  },
  {
   "cell_type": "markdown",
   "id": "b8cd65bc-8e33-4d97-8577-8bbcad9b12a6",
   "metadata": {},
   "source": [
    "Black Hat 연산"
   ]
  },
  {
   "cell_type": "code",
   "execution_count": null,
   "id": "370bc66e-7f8c-45de-b316-a84df9bda1f6",
   "metadata": {},
   "outputs": [],
   "source": [
    "import cv2\n",
    "import numpy as np\n",
    "from matplotlib import pyplot as plt\n",
    "img = cv2.imread('./data/j.png', 0)\n",
    "kernel = np.ones((9,9), np.uint8) \n",
    "result = cv2.morphologyEx(img, cv2.MORPH_BLACKHAT, kernel)\n",
    "plt.subplot(121), plt.imshow(img, cmap='gray'), plt.title('Original')\n",
    "plt.xticks([]), plt.yticks([])\n",
    "plt.subplot(122), plt.imshow(result, cmap='gray'), plt.title('Result')\n",
    "plt.xticks([]), plt.yticks([])\n",
    "plt.show()"
   ]
  },
  {
   "cell_type": "markdown",
   "id": "4c5dfdd4-ea35-4846-8533-a1fc77994753",
   "metadata": {},
   "source": [
    "지금까지의 형태변환을 수행할때 사용한 커널 행렬"
   ]
  },
  {
   "cell_type": "code",
   "execution_count": null,
   "id": "f6be0f5d-f78d-4bb7-a6ee-e2774daa144b",
   "metadata": {},
   "outputs": [],
   "source": [
    "import cv2\n",
    "print(cv2.getStructuringElement(cv2.MORPH_RECT,(5,5)))\n",
    "print()\n",
    "print(cv2.getStructuringElement(cv2.MORPH_ELLIPSE,(5,5)))\n",
    "print()\n",
    "print(cv2.getStructuringElement(cv2.MORPH_CROSS,(5,5)))"
   ]
  }
 ],
 "metadata": {
  "kernelspec": {
   "display_name": "Python KOSA",
   "language": "python",
   "name": "kosa"
  },
  "language_info": {
   "codemirror_mode": {
    "name": "ipython",
    "version": 3
   },
   "file_extension": ".py",
   "mimetype": "text/x-python",
   "name": "python",
   "nbconvert_exporter": "python",
   "pygments_lexer": "ipython3",
   "version": "3.8.12"
  }
 },
 "nbformat": 4,
 "nbformat_minor": 5
}
