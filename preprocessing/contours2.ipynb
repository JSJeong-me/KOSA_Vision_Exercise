{
 "cells": [
  {
   "cell_type": "code",
   "execution_count": null,
   "metadata": {},
   "outputs": [],
   "source": []
  },
  {
   "cell_type": "code",
   "execution_count": 1,
   "metadata": {},
   "outputs": [
    {
     "data": {
      "text/plain": [
       "27"
      ]
     },
     "execution_count": 1,
     "metadata": {},
     "output_type": "execute_result"
    }
   ],
   "source": [
    "import sys\n",
    "import random\n",
    "import numpy as np\n",
    "import cv2\n",
    "\n",
    "#src = cv2.imread('namecard1.jpg')\n",
    "src = cv2.imread('2_11_11.png')\n",
    "#src = cv2.imread('coins.png')\n",
    "#src = cv2.imread('crack1.jpg')\n",
    "\n",
    "if src is None:\n",
    "    print('Image load failed!')\n",
    "    sys.exit()\n",
    "\n",
    "src = cv2.resize(src, (0, 0), fx=0.5, fy=0.5)\n",
    "src_gray = cv2.cvtColor(src, cv2.COLOR_BGR2GRAY)\n",
    "\n",
    "h, w = src.shape[:2]\n",
    "dst1 = np.zeros((h, w, 3), np.uint8)\n",
    "dst2 = np.zeros((h, w, 3), np.uint8)\n",
    "\n",
    "# 이진화\n",
    "_, src_bin = cv2.threshold(src_gray, 0, 255, cv2.THRESH_BINARY | cv2.THRESH_OTSU)\n",
    "\n",
    "# 외곽선 검출\n",
    "contours, _ = cv2.findContours(src_bin, cv2.RETR_EXTERNAL, cv2.CHAIN_APPROX_NONE)\n",
    "\n",
    "for i in range(len(contours)):\n",
    "    pts = contours[i]\n",
    "\n",
    "    c = (random.randint(0, 255), random.randint(0, 255), random.randint(0, 255))\n",
    "    cv2.drawContours(dst1, contours, i, c, 1)\n",
    "\n",
    "    # 너무 작은 객체는 제외\n",
    "    if (cv2.contourArea(pts) < 10):\n",
    "        continue\n",
    "\n",
    "    # 외곽선 근사화\n",
    "    approx = cv2.approxPolyDP(pts, cv2.arcLength(pts, True)*0.02, True)\n",
    "\n",
    "    # 컨벡스가 아니면 제외\n",
    "    if not cv2.isContourConvex(approx):\n",
    "        continue\n",
    "\n",
    "    if len(approx) == 4:\n",
    "        cv2.drawContours(dst2, contours, i, c, 2)\n",
    "\n",
    "\n",
    "cv2.imshow('src', src)\n",
    "cv2.imshow('src_bin', src_bin)\n",
    "cv2.imshow('dst1', dst1)\n",
    "cv2.imshow('dst2', dst2)\n",
    "cv2.waitKey()"
   ]
  },
  {
   "cell_type": "code",
   "execution_count": 2,
   "metadata": {},
   "outputs": [],
   "source": [
    "cv2.destroyAllWindows()"
   ]
  },
  {
   "cell_type": "code",
   "execution_count": null,
   "metadata": {},
   "outputs": [],
   "source": []
  }
 ],
 "metadata": {
  "kernelspec": {
   "display_name": "Python 3",
   "language": "python",
   "name": "python3"
  },
  "language_info": {
   "codemirror_mode": {
    "name": "ipython",
    "version": 3
   },
   "file_extension": ".py",
   "mimetype": "text/x-python",
   "name": "python",
   "nbconvert_exporter": "python",
   "pygments_lexer": "ipython3",
   "version": "3.7.6"
  }
 },
 "nbformat": 4,
 "nbformat_minor": 4
}
