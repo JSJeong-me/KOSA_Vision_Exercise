{
 "cells": [
  {
   "cell_type": "markdown",
   "metadata": {},
   "source": [
    "### https://homepages.cae.wisc.edu/~ece533/images/"
   ]
  },
  {
   "cell_type": "code",
   "execution_count": 1,
   "metadata": {},
   "outputs": [],
   "source": [
    "import sys\n",
    "import numpy as np\n",
    "import cv2\n",
    "\n",
    "\n",
    "def calcGrayHist(img):\n",
    "    channels = [0]\n",
    "    histSize = [256]\n",
    "    histRange = [0, 256]\n",
    "\n",
    "    hist = cv2.calcHist([img], channels, None, histSize, histRange)\n",
    "\n",
    "    return hist\n",
    "\n",
    "\n",
    "def getGrayHistImage(hist):\n",
    "    histMax = np.max(hist)\n",
    "\n",
    "    imgHist = np.full((110, 256), 255, dtype=np.uint8)\n",
    "    for x in range(256):\n",
    "        pt1 = (x, 100)\n",
    "        pt2 = (x, 100 - int(hist[x, 0] * 100 / histMax))\n",
    "        cv2.line(imgHist, pt1, pt2, 0)\n",
    "        cv2.line(imgHist, (x, 101), (x, 110), x)\n",
    "\n",
    "    #cv2.rectangle(imgHist, (0, 100), (255, 111), 0)\n",
    "\n",
    "    return imgHist\n",
    "\n",
    "\n",
    "if __name__ == '__main__':\n",
    "    src = cv2.imread('coins.png', cv2.IMREAD_GRAYSCALE)\n",
    "#    src = cv2.imread('crack1.jpg', cv2.IMREAD_GRAYSCALE)\n",
    "\n",
    "    if src is None:\n",
    "        print('Image load failed!')\n",
    "        sys.exit()\n",
    "\n",
    "    cv2.imshow('src', src)\n",
    "\n",
    "    hist = calcGrayHist(src)\n",
    "    histImg = getGrayHistImage(hist)\n",
    "    cv2.imshow('histImg', histImg)\n",
    "    cv2.imshow('histImg', getGrayHistImage(calcGrayHist(src)))\n",
    "    cv2.waitKey()\n",
    "\n",
    "cv2.destroyAllWindows()"
   ]
  },
  {
   "cell_type": "code",
   "execution_count": null,
   "metadata": {},
   "outputs": [],
   "source": []
  }
 ],
 "metadata": {
  "kernelspec": {
   "display_name": "Python KOSA",
   "language": "python",
   "name": "kosa"
  },
  "language_info": {
   "codemirror_mode": {
    "name": "ipython",
    "version": 3
   },
   "file_extension": ".py",
   "mimetype": "text/x-python",
   "name": "python",
   "nbconvert_exporter": "python",
   "pygments_lexer": "ipython3",
   "version": "3.8.3"
  }
 },
 "nbformat": 4,
 "nbformat_minor": 4
}
