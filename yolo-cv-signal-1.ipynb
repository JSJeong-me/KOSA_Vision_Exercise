{
  "nbformat": 4,
  "nbformat_minor": 0,
  "metadata": {
    "colab": {
      "name": "Untitled7.ipynb",
      "provenance": [],
      "authorship_tag": "ABX9TyPO6i768FAoeRiV6IlqW8Hb",
      "include_colab_link": true
    },
    "kernelspec": {
      "name": "python3",
      "display_name": "Python 3"
    },
    "language_info": {
      "name": "python"
    }
  },
  "cells": [
    {
      "cell_type": "markdown",
      "metadata": {
        "id": "view-in-github",
        "colab_type": "text"
      },
      "source": [
        "<a href=\"https://colab.research.google.com/github/JSJeong-me/KOSA_Vision_Exercise/blob/main/yolo-cv-signal-1.ipynb\" target=\"_parent\"><img src=\"https://colab.research.google.com/assets/colab-badge.svg\" alt=\"Open In Colab\"/></a>"
      ]
    },
    {
      "cell_type": "code",
      "metadata": {
        "id": "TKNm0LTShAyN"
      },
      "source": [
        ""
      ],
      "execution_count": null,
      "outputs": []
    },
    {
      "cell_type": "code",
      "metadata": {
        "id": "ctlhKhSbhO0x"
      },
      "source": [
        "#pip install -r https://raw.githubusercontent.com/ultralytics/yolov5/master/requirements.txt"
      ],
      "execution_count": null,
      "outputs": []
    },
    {
      "cell_type": "code",
      "metadata": {
        "id": "B99sW_JyhTpa"
      },
      "source": [
        "import torch\n",
        "\n",
        "# Model\n",
        "model = torch.hub.load('ultralytics/yolov5', 'yolov5s')\n",
        "\n",
        "# Image\n",
        "img = './traffic-signal-1.jpg'\n",
        "\n",
        "# Inference\n",
        "results = model(img)"
      ],
      "execution_count": null,
      "outputs": []
    },
    {
      "cell_type": "code",
      "metadata": {
        "id": "6XVLIGl6kBTo"
      },
      "source": [
        "crops = results.crop(save=True)  # cropped detections dictionary"
      ],
      "execution_count": null,
      "outputs": []
    },
    {
      "cell_type": "code",
      "metadata": {
        "id": "Wi9vD9XMlJqa"
      },
      "source": [
        "no_of_frames = 1  # no_of_frames"
      ],
      "execution_count": null,
      "outputs": []
    },
    {
      "cell_type": "code",
      "metadata": {
        "id": "YmrZVUAAlgz6"
      },
      "source": [
        "for i in range(no_of_frames):\n",
        "  print(results.pandas().xyxy[i])"
      ],
      "execution_count": null,
      "outputs": []
    },
    {
      "cell_type": "code",
      "metadata": {
        "id": "L9GOeDlJulgr"
      },
      "source": [
        "crops_image = results.pandas().xyxy[0]"
      ],
      "execution_count": null,
      "outputs": []
    },
    {
      "cell_type": "code",
      "metadata": {
        "id": "2_AXSLiv06ni"
      },
      "source": [
        "len(crops_image)"
      ],
      "execution_count": null,
      "outputs": []
    },
    {
      "cell_type": "code",
      "metadata": {
        "id": "9cUgoI_Ry9Kk"
      },
      "source": [
        "results.pandas().xyxy[0]"
      ],
      "execution_count": null,
      "outputs": []
    },
    {
      "cell_type": "code",
      "metadata": {
        "id": "CXQrwG4Fw45Y"
      },
      "source": [
        "import cv2\n",
        "import numpy as np\n",
        "from google.colab.patches import cv2_imshow"
      ],
      "execution_count": null,
      "outputs": []
    },
    {
      "cell_type": "code",
      "metadata": {
        "id": "GbqEIEZTv-8s"
      },
      "source": [
        "src = cv2.imread(img)"
      ],
      "execution_count": null,
      "outputs": []
    },
    {
      "cell_type": "code",
      "metadata": {
        "id": "jtP11fLByKZC"
      },
      "source": [
        "crops_image.iloc[4,5] == 9 # Traffic light"
      ],
      "execution_count": null,
      "outputs": []
    },
    {
      "cell_type": "code",
      "metadata": {
        "id": "1sWs7ZDSuvbB"
      },
      "source": [
        "if (crops_image.iloc[4, 5] == 9): # traffic light\n",
        "  x1, y1, x2, y2 = int(crops_image.iloc[4,0]), int(crops_image.iloc[4,1]), int(crops_image.iloc[4,2]), int(crops_image.iloc[4,3])\n",
        "  print(x1, y1, x2, y2)\n",
        "  signal1 = src[y1:y2, x1:x2]\n",
        "  "
      ],
      "execution_count": null,
      "outputs": []
    },
    {
      "cell_type": "code",
      "metadata": {
        "id": "pEopqyC5r4Zp"
      },
      "source": [
        "cv2_imshow(signal1)"
      ],
      "execution_count": null,
      "outputs": []
    },
    {
      "cell_type": "code",
      "metadata": {
        "id": "R4722dAnzJFB"
      },
      "source": [
        "hsv_frame = cv2.cvtColor(signal1, cv2.COLOR_BGR2HSV)\n",
        "\n",
        "# Red color\n",
        "low_red = np.array([1, 220, 90]) # 161,155,84 \n",
        "high_red = np.array([179, 255, 255])\n",
        "red_mask = cv2.inRange(hsv_frame, low_red, high_red)\n",
        "red = cv2.bitwise_and(signal1, signal1, mask=red_mask)\n",
        "\n",
        "# Blue color\n",
        "low_blue = np.array([94, 80, 2])\n",
        "high_blue = np.array([126, 255, 255])\n",
        "blue_mask = cv2.inRange(hsv_frame, low_blue, high_blue)\n",
        "blue = cv2.bitwise_and(signal1, signal1, mask=blue_mask)\n",
        "\n",
        "# Green color\n",
        "low_green = np.array([25, 52, 72])\n",
        "high_green = np.array([102, 255, 255])\n",
        "green_mask = cv2.inRange(hsv_frame, low_green, high_green)\n",
        "green = cv2.bitwise_and(signal1, signal1, mask=green_mask)\n",
        "\n",
        "# Every color except white\n",
        "low = np.array([0, 42, 0])\n",
        "high = np.array([179, 255, 255])\n",
        "mask = cv2.inRange(hsv_frame, low, high)\n",
        "result = cv2.bitwise_and(signal1, signal1, mask=mask)\n",
        "\n",
        "#cv2_imshow(signal1)\n",
        "cv2_imshow(blue)\n",
        "cv2_imshow(green)\n",
        "cv2_imshow(red)\n",
        "#cv2_imshow(result)"
      ],
      "execution_count": null,
      "outputs": []
    }
  ]
}